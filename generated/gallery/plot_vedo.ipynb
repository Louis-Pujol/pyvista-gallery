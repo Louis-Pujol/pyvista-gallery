{
  "cells": [
    {
      "cell_type": "code",
      "execution_count": null,
      "metadata": {
        "collapsed": false
      },
      "outputs": [],
      "source": [
        "%matplotlib inline"
      ]
    },
    {
      "cell_type": "markdown",
      "metadata": {},
      "source": [
        "\nVedo\n====\nVisualize a static plot with PyVista.\n"
      ]
    },
    {
      "cell_type": "markdown",
      "metadata": {},
      "source": [
        "Load a mesh\n\n"
      ]
    },
    {
      "cell_type": "code",
      "execution_count": null,
      "metadata": {
        "collapsed": false
      },
      "outputs": [],
      "source": [
        "from vedo import Plotter, Mesh, dataurl\nmesh = Mesh(dataurl+\"spider.ply\")"
      ]
    },
    {
      "cell_type": "markdown",
      "metadata": {},
      "source": [
        "Plot the mesh\n\n"
      ]
    },
    {
      "cell_type": "code",
      "execution_count": null,
      "metadata": {
        "collapsed": false
      },
      "outputs": [],
      "source": [
        "a = 1\nplt = Plotter(offscreen=True)\nplt.show(mesh, axes=11, bg='bb', bg2='navy', elevation=-30, interactive=False)"
      ]
    },
    {
      "cell_type": "markdown",
      "metadata": {},
      "source": [
        "Plot another mesh\n\n"
      ]
    },
    {
      "cell_type": "code",
      "execution_count": null,
      "metadata": {
        "collapsed": false
      },
      "outputs": [],
      "source": [
        "from vedo import dataurl, settings, Plotter, Mesh, Text2D\n\nsettings.background_gradient_orientation = 3  # radial gradient\n\n# Create an instance of the Plotter class, \n# which creates a default camera needed for silhouette()\nplt = Plotter(offscreen=True)\n\n# Create a Text2D object to display the docstring at the bottom-center of the plot,\n# using the Bongas font with a size of 2 and a dark green background\ntxt = Text2D(__doc__, pos=\"bottom-center\", font=\"Bongas\", s=2, bg=\"dg\")\n\n# Load a mesh of a human figure, disable lighting (reflections), \n# set the color to pink, and set the transparency to 0.5\nman = Mesh(dataurl + \"man.vtk\").lighting(\"off\").c(\"pink\").alpha(0.5)\n\n# Load a mesh of a teddy bear, scale and rotate it around the z-axis,\nted = Mesh(dataurl + \"teddy.vtk\").scale(0.4).rotate_z(-45).pos(-1, -1, -1)\nted.lighting(\"off\").c(\"sienna\").alpha(0.1)\n\n# Show the meshes, the default silhouette of the teddy bear mesh\nplt.show(\n    txt,\n    ted,\n    man,\n    ted.silhouette(),  # default silhouette of the teddy bear mesh\n    man.silhouette(feature_angle=40).linewidth(3).color(\"dr\"),\n    bg=\"white\",        # set the background color to wheat\n    bg2=\"blue8\",       # set the color of the gradient to light blue\n    elevation=-80,     # set the elevation angle of the camera\n    zoom=1.2,          # zoom in on the plot\n)"
      ]
    }
  ],
  "metadata": {
    "kernelspec": {
      "display_name": "Python 3",
      "language": "python",
      "name": "python3"
    },
    "language_info": {
      "codemirror_mode": {
        "name": "ipython",
        "version": 3
      },
      "file_extension": ".py",
      "mimetype": "text/x-python",
      "name": "python",
      "nbconvert_exporter": "python",
      "pygments_lexer": "ipython3",
      "version": "3.10.13"
    }
  },
  "nbformat": 4,
  "nbformat_minor": 0
}